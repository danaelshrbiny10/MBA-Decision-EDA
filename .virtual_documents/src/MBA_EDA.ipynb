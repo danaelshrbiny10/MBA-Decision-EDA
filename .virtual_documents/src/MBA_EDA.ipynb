





import pandas as pd
import seaborn as sns
import matplotlib.pyplot as plt  
import warnings

# Suppressing warnings for a cleaner output
warnings.filterwarnings("ignore")



data = pd.read_csv('data/mba_decision_dataset.csv')
data.head()





"""
    Checks the DataFrame for missing values and returns the count for each column.
    
    Args:
        df (pd.DataFrame): DataFrame to check for missing values.
    
    Returns:
        pd.Series: Series with the count of missing values for each column.
    """

df = data.isnull().sum()
print(df)





    """
    Removes duplicate rows from the dataset.
    
    Args:
        df (pd.DataFrame): DataFrame to remove duplicates from.
    
    Returns:
        pd.DataFrame: DataFrame with duplicate rows removed.
    """

df = data.drop_duplicates()
df.head()





# Remove rows where 'Age' is greater than 100 
df = data[data['Age'] <= 100]
df.head()





# Check unique values in 'Gender' column and fix inconsistencies
df['Gender'].replace('M', 'Male', inplace=True)
df['Gender'].replace('F', 'Female', inplace=True)
df.head()





df['Person ID'] = df['Person ID'].astype(int)
df['Undergraduate GPA'] = df['Undergraduate GPA'].astype(float)
df.head()





df.dtypes





# Data Type Conversion Block
# Convert columns to appropriate data types

df['Person ID'] = df['Person ID'].astype('int64')
df['Age'] = df['Age'].astype('int64')
df['Undergraduate GPA'] = df['Undergraduate GPA'].astype('float64')
df['Years of Work Experience'] = df['Years of Work Experience'].astype('int64')
df['Annual Salary (Before MBA)'] = df['Annual Salary (Before MBA)'].astype('int64')
df['GRE/GMAT Score'] = df['GRE/GMAT Score'].astype('int64')
df['Undergrad University Ranking'] = df['Undergrad University Ranking'].astype('int64')
df['Networking Importance'] = df['Networking Importance'].astype('float64')
df['Expected Post-MBA Salary'] = df['Expected Post-MBA Salary'].astype('int64')

# Check data types after conversion
print(df.dtypes)



# Categorical to Numeric Mapping Block
# Convert categorical columns to numeric values

df['Has Management Experience'] = df['Has Management Experience'].map({'Yes': 1, 'No': 0})
df['Gender'] = df['Gender'].map({'Male': 1, 'Female': 0})
df['MBA Funding Source'] = df['MBA Funding Source'].map({'Self-funded': 1, 'Sponsored': 0})
df['Online vs. On-Campus MBA'] = df['Online vs. On-Campus MBA'].map({'Online': 1, 'On-Campus': 0})
df['Decided to Pursue MBA?'] = df['Decided to Pursue MBA?'].map({'Yes': 1, 'No': 0})

# Check the first few rows to confirm the mappings
df.head()


# Handle Non-Numeric Values in Numeric Columns Block
# Convert invalid entries in 'Entrepreneurial Interest' to NaN and fill missing values

df['Entrepreneurial Interest'] = pd.to_numeric(df['Entrepreneurial Interest'], errors='coerce')
df['Entrepreneurial Interest'].fillna(df['Entrepreneurial Interest'].mean(), inplace=True)

# Check for missing values
print(df['Entrepreneurial Interest'].isnull().sum())



# Label Encoding for Categorical Columns Block
# Map categorical values in 'Undergraduate Major' to integers

df['Undergraduate Major'] = df['Undergraduate Major'].map({
    'Engineering': 1,
    'Business': 2,
    'Arts': 3,
    'Science': 4, 
    'Other': 5
    # Add more mappings as needed
})

# Check the first few rows to confirm the mapping.
df.head()


# Missing Data Handling Block
# Replace missing numerical values with the column mean (or median, depending on your strategy)

df['Undergraduate GPA'].fillna(df['Undergraduate GPA'].mean(), inplace=True)
df['Networking Importance'].fillna(df['Networking Importance'].mean(), inplace=True)
df['Entrepreneurial Interest'].fillna(df['Entrepreneurial Interest'].mean(), inplace=True)

# Check missing values after filling
print(df.isnull().sum())






# Distribution of Age
plt.figure(figsize=(10, 6))
sns.histplot(df['Age'], kde=True, color='skyblue')
plt.title('Distribution of Age')
plt.xlabel('Age')
plt.ylabel('Frequency')
plt.show()


# Distribution of Undergraduate GPA
plt.figure(figsize=(10, 6))
sns.histplot(df['Undergraduate GPA'], kde=True, color='orange')
plt.title('Distribution of Undergraduate GPA')
plt.xlabel('Undergraduate GPA')
plt.ylabel('Frequency')
plt.show()


# Distribution of Annual Salary (Before MBA)
plt.figure(figsize=(10, 6))
sns.histplot(df['Annual Salary (Before MBA)'], kde=True, color='green')
plt.title('Distribution of Annual Salary (Before MBA)')
plt.xlabel('Annual Salary (USD)')
plt.ylabel('Frequency')
plt.show()


# Box plot for Age
plt.figure(figsize=(10, 6))
sns.boxplot(x=df['Age'], color='lightblue')
plt.title('Box Plot of Age')
plt.xlabel('Age')
plt.show()


# Box plot for Annual Salary (Before MBA)
plt.figure(figsize=(10, 6))
sns.boxplot(x=df['Annual Salary (Before MBA)'], color='lightgreen')
plt.title('Box Plot of Annual Salary (Before MBA)')
plt.xlabel('Annual Salary (USD)')
plt.show()


# Box plot for GRE/GMAT Score
plt.figure(figsize=(10, 6))
sns.boxplot(x=df['GRE/GMAT Score'], color='orange')
plt.title('Box Plot of GRE/GMAT Score')
plt.xlabel('GRE/GMAT Score')
plt.show()


# Count plot for Gender
plt.figure(figsize=(10, 6))
sns.countplot(x=df['Gender'], palette='Set2')
plt.title('Count Plot of Gender')
plt.xlabel('Gender')
plt.ylabel('Count')
plt.show()


# Count plot for MBA Funding Source
plt.figure(figsize=(10, 6))
sns.countplot(x=df['MBA Funding Source'], palette='Set1')
plt.title('Count Plot of MBA Funding Source')
plt.xlabel('Funding Source')
plt.ylabel('Count')
plt.show()


# Count plot for Location Preference (Post-MBA)
plt.figure(figsize=(10, 6))
sns.countplot(x=df['Location Preference (Post-MBA)'], palette='Set3')
plt.title('Count Plot of Location Preference (Post-MBA)')
plt.xlabel('Location Preference')
plt.ylabel('Count')
plt.show()


# Exclude non-numeric columns for correlation calculation
numeric_columns = df.select_dtypes(include=['int64', 'float64']).columns
df_numeric = df[numeric_columns]

# Calculate the correlation matrix
corr_matrix = df_numeric.corr()


# Plot the correlation heatmap
plt.figure(figsize=(12, 8))
sns.heatmap(corr_matrix, annot=True, cmap='coolwarm', fmt='.2f', linewidths=0.5)
plt.title('Correlation Heatmap of Numerical Features')
plt.show()



# Pairplot for a selection of numerical columns
sns.pairplot(df[['Age', 'Undergraduate GPA', 'Annual Salary (Before MBA)', 'GRE/GMAT Score']])
plt.title('Pairplot of Numerical Features')
plt.show()


# Bar plot for Reason for MBA by Gender
plt.figure(figsize=(10, 6))
sns.countplot(x='Reason for MBA', hue='Gender', data=df, palette='Set2')
plt.title('Reason for MBA by Gender')
plt.xlabel('Reason for MBA')
plt.ylabel('Count')
plt.xticks(rotation=45)
plt.show()



# Bar plot for Reason for MBA by Gender
plt.figure(figsize=(10, 6))
sns.countplot(x='Reason for MBA', hue='Gender', data=df, palette='Set2')
plt.title('Reason for MBA by Gender')
plt.xlabel('Reason for MBA')
plt.ylabel('Count')
plt.xticks(rotation=45)
plt.show()



# Violin plot for Expected Post-MBA Salary by Reason for MBA
plt.figure(figsize=(12, 8))
sns.violinplot(x='Reason for MBA', y='Expected Post-MBA Salary', data=df, palette='muted')
plt.title('Violin Plot of Expected Post-MBA Salary by Reason for MBA')
plt.xlabel('Reason for MBA')
plt.ylabel('Expected Post-MBA Salary')
plt.xticks(rotation=45)
plt.show()









df.to_csv('data/result/mba_decision_cleaned.csv', index=False)



