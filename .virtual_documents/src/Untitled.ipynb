





import pandas as pd
import seaborn as sns
import matplotlib.pyplot as plt  
import warnings

# Suppressing warnings for a cleaner output
warnings.filterwarnings("ignore")



data = pd.read_csv('data/mba_decision_dataset.csv')
data.head()





"""
    Checks the DataFrame for missing values and returns the count for each column.
    
    Args:
        df (pd.DataFrame): DataFrame to check for missing values.
    
    Returns:
        pd.Series: Series with the count of missing values for each column.
    """

df = data.isnull().sum()
print(df)





    """
    Removes duplicate rows from the dataset.
    
    Args:
        df (pd.DataFrame): DataFrame to remove duplicates from.
    
    Returns:
        pd.DataFrame: DataFrame with duplicate rows removed.
    """

df = data.drop_duplicates()
df.head()





# Remove rows where 'Age' is greater than 100 
df = data[data['Age'] <= 100]
df.head()





# Check unique values in 'Gender' column and fix inconsistencies
df['Gender'].replace('M', 'Male', inplace=True)
df['Gender'].replace('F', 'Female', inplace=True)
df.head()





df['Person ID'] = df['Person ID'].astype(int)
df['Undergraduate GPA'] = df['Undergraduate GPA'].astype(float)
df.head()





df.dtypes





df['Person ID'] = df['Person ID'].astype('int64')
df['Age'] = df['Age'].astype('int64')
df['Gender'] = df['Gender'].astype('object')
df['Undergraduate Major'] = df['Undergraduate Major'].astype('object')
df['Undergraduate GPA'] = df['Undergraduate GPA'].astype('float64')
df['Years of Work Experience'] = df['Years of Work Experience'].astype('int64')
df['Current Job Title'] = df['Current Job Title'].astype('object')
df['Annual Salary (Before MBA)'] = df['Annual Salary (Before MBA)'].astype('int64')
df['Has Management Experience'] = df['Has Management Experience'].astype('object')
df['GRE/GMAT Score'] = df['GRE/GMAT Score'].astype('int64')
df['Undergrad University Ranking'] = df['Undergrad University Ranking'].astype('int64')
df['Entrepreneurial Interest'] = df['Entrepreneurial Interest'].astype('float64')
df['Networking Importance'] = df['Networking Importance'].astype('float64')
df['MBA Funding Source'] = df['MBA Funding Source'].astype('object')
df['Desired Post-MBA Role'] = df['Desired Post-MBA Role'].astype('object')
df['Expected Post-MBA Salary'] = df['Expected Post-MBA Salary'].astype('int64')
df['Location Preference (Post-MBA)'] = df['Location Preference (Post-MBA)'].astype('object')
df['Reason for MBA'] = df['Reason for MBA'].astype('object')
df['Online vs. On-Campus MBA'] = df['Online vs. On-Campus MBA'].astype('object')
df['Decided to Pursue MBA?'] = df['Decided to Pursue MBA?'].astype('object')


print(df.dtypes)





# Distribution of Age
plt.figure(figsize=(10, 6))
sns.histplot(df['Age'], kde=True, color='skyblue')
plt.title('Distribution of Age')
plt.xlabel('Age')
plt.ylabel('Frequency')
plt.show()


# Distribution of Undergraduate GPA
plt.figure(figsize=(10, 6))
sns.histplot(df['Undergraduate GPA'], kde=True, color='orange')
plt.title('Distribution of Undergraduate GPA')
plt.xlabel('Undergraduate GPA')
plt.ylabel('Frequency')
plt.show()


# Distribution of Annual Salary (Before MBA)
plt.figure(figsize=(10, 6))
sns.histplot(df['Annual Salary (Before MBA)'], kde=True, color='green')
plt.title('Distribution of Annual Salary (Before MBA)')
plt.xlabel('Annual Salary (USD)')
plt.ylabel('Frequency')
plt.show()


# Box plot for Age
plt.figure(figsize=(10, 6))
sns.boxplot(x=df['Age'], color='lightblue')
plt.title('Box Plot of Age')
plt.xlabel('Age')
plt.show()


# Box plot for Annual Salary (Before MBA)
plt.figure(figsize=(10, 6))
sns.boxplot(x=df['Annual Salary (Before MBA)'], color='lightgreen')
plt.title('Box Plot of Annual Salary (Before MBA)')
plt.xlabel('Annual Salary (USD)')
plt.show()


# Box plot for GRE/GMAT Score
plt.figure(figsize=(10, 6))
sns.boxplot(x=df['GRE/GMAT Score'], color='orange')
plt.title('Box Plot of GRE/GMAT Score')
plt.xlabel('GRE/GMAT Score')
plt.show()


# Count plot for Gender
plt.figure(figsize=(10, 6))
sns.countplot(x=df['Gender'], palette='Set2')
plt.title('Count Plot of Gender')
plt.xlabel('Gender')
plt.ylabel('Count')
plt.show()


# Count plot for MBA Funding Source
plt.figure(figsize=(10, 6))
sns.countplot(x=df['MBA Funding Source'], palette='Set1')
plt.title('Count Plot of MBA Funding Source')
plt.xlabel('Funding Source')
plt.ylabel('Count')
plt.show()


# Count plot for Location Preference (Post-MBA)
plt.figure(figsize=(10, 6))
sns.countplot(x=df['Location Preference (Post-MBA)'], palette='Set3')
plt.title('Count Plot of Location Preference (Post-MBA)')
plt.xlabel('Location Preference')
plt.ylabel('Count')
plt.show()


# Correlation Heatmap
plt.figure(figsize=(12, 8))
corr = df.corr()  # Calculate correlations between numerical features
sns.heatmap(corr, annot=True, cmap='coolwarm', fmt='.2f', linewidths=0.5)
plt.title('Correlation Heatmap')
plt.show()


# Pairplot for a selection of numerical columns
sns.pairplot(df[['Age', 'Undergraduate GPA', 'Annual Salary (Before MBA)', 'GRE/GMAT Score']])
plt.title('Pairplot of Numerical Features')
plt.show()


# Bar plot for Reason for MBA by Gender
plt.figure(figsize=(10, 6))
sns.countplot(x='Reason for MBA', hue='Gender', data=df, palette='Set2')
plt.title('Reason for MBA by Gender')
plt.xlabel('Reason for MBA')
plt.ylabel('Count')
plt.xticks(rotation=45)
plt.show()



# Bar plot for Reason for MBA by Gender
plt.figure(figsize=(10, 6))
sns.countplot(x='Reason for MBA', hue='Gender', data=df, palette='Set2')
plt.title('Reason for MBA by Gender')
plt.xlabel('Reason for MBA')
plt.ylabel('Count')
plt.xticks(rotation=45)
plt.show()



# Heatmap to visualize missing values
plt.figure(figsize=(10, 6))
sns.heatmap(df.isnull(), cbar=False, cmap='viridis')
plt.title('Missing Data Heatmap')
plt.show()



# Violin plot for Expected Post-MBA Salary by Reason for MBA
plt.figure(figsize=(12, 8))
sns.violinplot(x='Reason for MBA', y='Expected Post-MBA Salary', data=df, palette='muted')
plt.title('Violin Plot of Expected Post-MBA Salary by Reason for MBA')
plt.xlabel('Reason for MBA')
plt.ylabel('Expected Post-MBA Salary')
plt.xticks(rotation=45)
plt.show()



# Pairplot for categorical data (colored by target variable)
sns.pairplot(df, hue='Decided to Pursue MBA?', palette='dark')
plt.show()






df.to_csv('data/result/mba_decision_cleaned.csv', index=False)



